{
 "cells": [
  {
   "cell_type": "code",
   "id": "initial_id",
   "metadata": {
    "collapsed": true,
    "ExecuteTime": {
     "end_time": "2025-02-26T09:04:06.494648Z",
     "start_time": "2025-02-26T09:04:03.501480Z"
    }
   },
   "source": [
    "import h5py\n",
    "import numpy as np\n",
    "from itertools import combinations\n",
    "from sklearn.cluster import KMeans\n",
    "from sklearn.metrics import silhouette_score\n",
    "import matplotlib.pyplot as plt"
   ],
   "outputs": [],
   "execution_count": 1
  },
  {
   "metadata": {
    "ExecuteTime": {
     "end_time": "2025-02-26T09:04:13.411696Z",
     "start_time": "2025-02-26T09:04:13.406674Z"
    }
   },
   "cell_type": "code",
   "source": [
    "def load_h5_file(file, num_cost_matrices):\n",
    "    \"\"\"Loads the train and test embeddings\"\"\"\n",
    "    with h5py.File(file, 'r') as f:\n",
    "        cost_matrices = {i:np.array(f[f'cost_matrix_{i}']) for i in range(num_cost_matrices)}\n",
    "    return cost_matrices\n"
   ],
   "id": "9335d2db1338f9d1",
   "outputs": [],
   "execution_count": 2
  },
  {
   "metadata": {
    "ExecuteTime": {
     "end_time": "2025-02-26T09:04:23.128748Z",
     "start_time": "2025-02-26T09:04:19.164904Z"
    }
   },
   "cell_type": "code",
   "source": [
    "len_dataset = 188\n",
    "num_cost_matrices = len(list(combinations(range(len_dataset), r=2)))\n",
    "\n",
    "print(f'Number of cost matrices: {num_cost_matrices}')\n",
    "\n",
    "cost_matrices = load_h5_file('../data/cost_matrices.h5', num_cost_matrices)"
   ],
   "id": "c7fbde2a4e2e36cc",
   "outputs": [
    {
     "name": "stdout",
     "output_type": "stream",
     "text": [
      "Number of cost matrices: 17578\n"
     ]
    }
   ],
   "execution_count": 3
  },
  {
   "metadata": {
    "ExecuteTime": {
     "end_time": "2025-02-26T09:04:34.451684Z",
     "start_time": "2025-02-26T09:04:34.442034Z"
    }
   },
   "cell_type": "code",
   "source": "cost_matrices[0]",
   "id": "cd3b23810a6688de",
   "outputs": [
    {
     "data": {
      "text/plain": [
       "array([[0.13855484, 0.13845885, 1.84178903, 8.33910386, 4.33924013,\n",
       "        1.54351854, 1.62207349, 1.62207708, 4.26150579, 8.12694368,\n",
       "        1.97717433, 0.70526678, 1.67934353, 1.01150449, 4.58241239,\n",
       "        4.76704108, 4.76704108],\n",
       "       [1.36842527, 1.36843859, 1.13961124, 7.90360381, 3.57798544,\n",
       "        0.53724399, 0.73316307, 0.73315077, 3.48328601, 7.67941813,\n",
       "        1.34748111, 2.10670704, 2.37059793, 0.71430031, 4.63460039,\n",
       "        5.01832703, 5.01832703],\n",
       "       [2.45242473, 2.45243216, 2.27469461, 7.58660316, 2.93104686,\n",
       "        2.04664173, 2.10657052, 2.10656624, 2.81480159, 7.35370117,\n",
       "        2.38405153, 3.00860427, 3.24260571, 2.11382245, 5.16500119,\n",
       "        5.23503958, 5.23503958],\n",
       "       [1.36098197, 1.36099536, 1.1403106 , 7.90370468, 3.57820825,\n",
       "        0.5387259 , 0.73424967, 0.73423739, 3.48351488, 7.67952195,\n",
       "        1.34807263, 2.09980534, 2.36722034, 0.71541556, 4.6336976 ,\n",
       "        5.01794937, 5.01794937],\n",
       "       [0.27703624, 0.27700247, 1.96837194, 8.43669469, 4.50169187,\n",
       "        1.6925447 , 1.76448533, 1.76448758, 4.42680932, 8.22705119,\n",
       "        2.09559409, 0.54436064, 1.60346112, 1.12758955, 4.61384684,\n",
       "        4.82365019, 4.82365019],\n",
       "       [1.26254947, 1.26254331, 2.44857401, 8.58986845, 4.77265652,\n",
       "        2.23287191, 2.28788746, 2.28788888, 4.70209051, 8.38405579,\n",
       "        2.55196771, 1.12847232, 1.29389919, 1.81451678, 4.50919282,\n",
       "        4.5602035 , 4.5602035 ],\n",
       "       [3.8571529 , 3.85728103, 4.27279025, 9.05244965, 5.99395358,\n",
       "        4.25690318, 4.26181226, 4.26175755, 5.96715666, 8.86589131,\n",
       "        4.31855516, 3.80540993, 3.91078517, 4.06897398, 2.5126827 ,\n",
       "        4.06436983, 4.06436983],\n",
       "       [1.68685188, 1.68685811, 2.63469225, 8.70719146, 4.96237753,\n",
       "        2.4354887 , 2.48605054, 2.48604837, 4.89454013, 8.50421691,\n",
       "        2.7310446 , 1.66347551, 0.13842783, 2.00529141, 4.9204718 ,\n",
       "        5.04459557, 5.04459557],\n",
       "       [1.74142389, 1.7414084 , 2.77886018, 8.74686992, 5.03135994,\n",
       "        2.59084472, 2.63838057, 2.63838522, 4.96448022, 8.54484146,\n",
       "        2.87038546, 1.60244598, 0.41038485, 2.17878516, 4.94067311,\n",
       "        4.96649263, 4.96649263],\n",
       "       [1.0489629 , 1.04892411, 2.60365637, 8.69059557, 4.9355479 ,\n",
       "        2.40199692, 2.45317496, 2.4531826 , 4.86736664, 8.48722194,\n",
       "        2.70112804, 0.40010909, 1.80267871, 1.91938257, 4.74711006,\n",
       "        4.75523324, 4.75523324],\n",
       "       [4.60078965, 4.60090267, 4.63830696, 8.83470472, 6.05458009,\n",
       "        4.64374796, 4.65495218, 4.65489949, 6.03570288, 8.65349668,\n",
       "        4.65445803, 4.71905684, 4.9471019 , 4.59811514, 0.08263569,\n",
       "        3.74822884, 3.74822884],\n",
       "       [4.80277771, 4.80288164, 4.89554476, 8.37226051, 5.94933366,\n",
       "        4.98596714, 4.9846615 , 4.98461426, 5.95108043, 8.19741178,\n",
       "        4.87904504, 4.80001732, 5.07339182, 4.93200601, 3.7592952 ,\n",
       "        0.04097388, 0.04097388],\n",
       "       [4.80277771, 4.80288164, 4.89554476, 8.37226051, 5.94933366,\n",
       "        4.98596714, 4.9846615 , 4.98461426, 5.95108043, 8.19741178,\n",
       "        4.87904504, 4.80001732, 5.07339182, 4.93200601, 3.7592952 ,\n",
       "        0.04097388, 0.04097388]])"
      ]
     },
     "execution_count": 4,
     "metadata": {},
     "output_type": "execute_result"
    }
   ],
   "execution_count": 4
  },
  {
   "metadata": {
    "ExecuteTime": {
     "end_time": "2025-02-26T09:28:36.283034Z",
     "start_time": "2025-02-26T09:28:36.256184Z"
    }
   },
   "cell_type": "code",
   "source": [
    "sum_squerd_distanse = []\n",
    "K = range(1, len(cost_matrices[5000]) - 4)\n",
    "for num_cluster in K:\n",
    "    kmeans = KMeans(n_clusters=num_cluster)\n",
    "    kmeans.fit(cost_matrices[1000])\n",
    "    sum_squerd_distanse.append(kmeans.inertia_)\n",
    "rats_of_change = np.diff(sum_squerd_distanse)\n",
    "second_diff = np.diff(rats_of_change)\n",
    "ellbow_index = np.argmax(second_diff)\n",
    "optimal_k = ellbow_index + 2\n",
    "optimal_k"
   ],
   "id": "47cccce640d00cca",
   "outputs": [
    {
     "data": {
      "text/plain": [
       "np.int64(2)"
      ]
     },
     "execution_count": 25,
     "metadata": {},
     "output_type": "execute_result"
    }
   ],
   "execution_count": 25
  },
  {
   "metadata": {
    "ExecuteTime": {
     "end_time": "2025-02-26T09:28:37.169106Z",
     "start_time": "2025-02-26T09:28:37.162220Z"
    }
   },
   "cell_type": "code",
   "source": "sum_squerd_distanse",
   "id": "77c5e55169f7d441",
   "outputs": [
    {
     "data": {
      "text/plain": [
       "[25669.804639177284,\n",
       " 3123.0378622644193,\n",
       " 2003.6593458466791,\n",
       " 959.3057104796067,\n",
       " 635.2141560762068,\n",
       " 301.0283847320644,\n",
       " 122.69600893970468]"
      ]
     },
     "execution_count": 26,
     "metadata": {},
     "output_type": "execute_result"
    }
   ],
   "execution_count": 26
  },
  {
   "metadata": {
    "ExecuteTime": {
     "end_time": "2025-02-26T09:28:38.156539Z",
     "start_time": "2025-02-26T09:28:38.148924Z"
    }
   },
   "cell_type": "code",
   "source": "rats_of_change",
   "id": "4495ea1019eae741",
   "outputs": [
    {
     "data": {
      "text/plain": [
       "array([-22546.76677691,  -1119.37851642,  -1044.35363537,   -324.0915544 ,\n",
       "         -334.18577134,   -178.33237579])"
      ]
     },
     "execution_count": 27,
     "metadata": {},
     "output_type": "execute_result"
    }
   ],
   "execution_count": 27
  },
  {
   "metadata": {
    "ExecuteTime": {
     "end_time": "2025-02-26T09:28:38.863200Z",
     "start_time": "2025-02-26T09:28:38.854046Z"
    }
   },
   "cell_type": "code",
   "source": "second_diff",
   "id": "b1d9c39dcb2bdf5e",
   "outputs": [
    {
     "data": {
      "text/plain": [
       "array([ 2.14273883e+04,  7.50248811e+01,  7.20262081e+02, -1.00942169e+01,\n",
       "        1.55853396e+02])"
      ]
     },
     "execution_count": 28,
     "metadata": {},
     "output_type": "execute_result"
    }
   ],
   "execution_count": 28
  },
  {
   "metadata": {
    "ExecuteTime": {
     "end_time": "2025-02-26T09:31:07.120858Z",
     "start_time": "2025-02-26T09:31:07.046382Z"
    }
   },
   "cell_type": "code",
   "source": [
    "sum_squerd_distanse = []\n",
    "K = range(1, len(cost_matrices[5000][0]) - 4)\n",
    "for num_cluster in K:\n",
    "    kmeans = KMeans(n_clusters=num_cluster)\n",
    "    kmeans.fit(cost_matrices[5000].T)\n",
    "    sum_squerd_distanse.append(kmeans.inertia_)\n",
    "rats_of_change = np.diff(sum_squerd_distanse)\n",
    "second_diff = np.diff(rats_of_change)\n",
    "ellbow_index = np.argmax(second_diff)\n",
    "optimal_k = ellbow_index + 2\n",
    "optimal_k"
   ],
   "id": "b3101f089a96c8b8",
   "outputs": [
    {
     "data": {
      "text/plain": [
       "np.int64(3)"
      ]
     },
     "execution_count": 33,
     "metadata": {},
     "output_type": "execute_result"
    }
   ],
   "execution_count": 33
  },
  {
   "metadata": {},
   "cell_type": "code",
   "outputs": [],
   "execution_count": null,
   "source": "",
   "id": "24091d62af06711a"
  }
 ],
 "metadata": {
  "kernelspec": {
   "display_name": "Python 3",
   "language": "python",
   "name": "python3"
  },
  "language_info": {
   "codemirror_mode": {
    "name": "ipython",
    "version": 2
   },
   "file_extension": ".py",
   "mimetype": "text/x-python",
   "name": "python",
   "nbconvert_exporter": "python",
   "pygments_lexer": "ipython2",
   "version": "2.7.6"
  }
 },
 "nbformat": 4,
 "nbformat_minor": 5
}
